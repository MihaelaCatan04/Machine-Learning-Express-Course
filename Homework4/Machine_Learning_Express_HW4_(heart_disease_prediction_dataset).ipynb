{
  "cells": [
    {
      "cell_type": "markdown",
      "source": [
        "#Predict a value using the already trained model"
      ],
      "metadata": {
        "id": "piMnHP4VRC2Q"
      },
      "id": "piMnHP4VRC2Q"
    },
    {
      "cell_type": "code",
      "execution_count": null,
      "id": "13528f2f",
      "metadata": {
        "id": "13528f2f"
      },
      "outputs": [],
      "source": [
        "#import the necessary library\n",
        "import requests"
      ]
    },
    {
      "cell_type": "code",
      "execution_count": null,
      "id": "e0bce86e",
      "metadata": {
        "id": "e0bce86e"
      },
      "outputs": [],
      "source": [
        "#create the data to be predicted\n",
        "data_json = {\n",
        "    \"Age\" : 56,\n",
        "    \"FastingBS\" : 0,\n",
        "    \"Oldpeak\" : 1.5,\n",
        "    \"Sex_F\" : 1,\n",
        "    \"ExerciseAngina_Y\" : 1,\n",
        "    \"ST_Slope_Down\" : 0,\n",
        "    \"ST_Slope_Flat\" : 0,\n",
        "    \"ChestPainType_ASY_ChestPainType_ATA_ChestPainType_NAP\" : 0\n",
        "}"
      ]
    },
    {
      "cell_type": "code",
      "execution_count": null,
      "id": "8ea37b8b",
      "metadata": {
        "id": "8ea37b8b"
      },
      "outputs": [],
      "source": [
        "#connect to the backend\n",
        "prediction = requests.get('http://127.0.0.1:5000/', json = data_json)"
      ]
    },
    {
      "cell_type": "code",
      "execution_count": null,
      "id": "e5ca03ba",
      "metadata": {
        "id": "e5ca03ba",
        "outputId": "665495b3-ada8-4e16-84fa-1e189145f83b"
      },
      "outputs": [
        {
          "data": {
            "text/plain": [
              "{'prediction': '0'}"
            ]
          },
          "execution_count": 73,
          "metadata": {},
          "output_type": "execute_result"
        }
      ],
      "source": [
        "#get the result\n",
        "prediction.json()"
      ]
    }
  ],
  "metadata": {
    "kernelspec": {
      "display_name": "Python 3 (ipykernel)",
      "language": "python",
      "name": "python3"
    },
    "language_info": {
      "codemirror_mode": {
        "name": "ipython",
        "version": 3
      },
      "file_extension": ".py",
      "mimetype": "text/x-python",
      "name": "python",
      "nbconvert_exporter": "python",
      "pygments_lexer": "ipython3",
      "version": "3.9.6"
    },
    "colab": {
      "name": "Machine_Learning_Express_HW4_(heart_disease_prediction_dataset).ipynb",
      "provenance": []
    }
  },
  "nbformat": 4,
  "nbformat_minor": 5
}